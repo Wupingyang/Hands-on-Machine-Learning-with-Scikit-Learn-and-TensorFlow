{
 "cells": [
  {
   "cell_type": "markdown",
   "metadata": {},
   "source": [
    "### 背后机制(Under the hood)\n",
    "从线性SVM分类器开始，解释SVM是如何做预测的并且算法是如何工作的。\n",
    "\n",
    "在训练模型章节中，将所有模型参数放在一个矢量$\\vec \\theta$中，包括偏置项$\\theta_0$，$\\theta_1$到$\\theta_n$的输入特征权重，和增加一个偏差输入$x_0=1$到所有样本中。\n",
    "\n",
    "在这里将使用不同的符号约定：偏置项被命名为$b$，特征权重向量被称为$\\vec w$，在输入特征向量中不再添加偏置特征。"
   ]
  },
  {
   "cell_type": "markdown",
   "metadata": {},
   "source": [
    "#### 1. 决策函数和预测\n",
    "线性SVM分类器通过计算函数$w\\cdot x+b=w_1x_1+w_2x_2+...+w_nx_n+b$来预测新样本的类别：\n",
    "* 如果结果是正的，预测类别$\\hat{y}$是正类，为1\n",
    "* 如果结果是负的，预测类别$\\hat{y}$是负类，为0\n",
    "\n",
    "公式为：\n",
    "$\\hat{y}=\\begin{cases} 0, if w^T\\cdot x+b<0\\\\ 1,ifw^T\\cdot x+b\\geq0 \\end{cases}$\n",
    "\n",
    "训练线性SVM分类器意味着找到$w$值和$b$值使得这一个间隔尽可能大，同时避免间隔违规（硬间隔）或限制它们（软间隔）"
   ]
  },
  {
   "cell_type": "markdown",
   "metadata": {},
   "source": [
    "#### 2.训练目标\n",
    "决策函数的斜率：它等于权重向量的范数$\\parallel w\\parallel$。\n",
    "\n",
    "权重向量$w$越小，间隔越大。所以我们的目标是最小化$\\parallel w\\parallel$，从而获得大的间隔。"
   ]
  },
  {
   "cell_type": "code",
   "execution_count": 5,
   "metadata": {},
   "outputs": [],
   "source": [
    "import matplotlib.pyplot as plt\n",
    "import numpy as np"
   ]
  },
  {
   "cell_type": "code",
   "execution_count": 2,
   "metadata": {},
   "outputs": [
    {
     "data": {
      "text/plain": [
       "<Figure size 1200x320 with 2 Axes>"
      ]
     },
     "metadata": {},
     "output_type": "display_data"
    }
   ],
   "source": [
    "\n",
    "def plot_2D_decision_function(w, b, ylabel=True, x1_lim=[-3, 3]):\n",
    "    x1 = np.linspace(x1_lim[0], x1_lim[1], 200)\n",
    "    y = w * x1 + b\n",
    "    m = 1 / w\n",
    "\n",
    "    plt.plot(x1, y)\n",
    "    \n",
    "    plt.plot(x1_lim, [1, 1], \"k:\")  # 画y=1的虚线\n",
    "    plt.plot(x1_lim, [-1, -1], \"k:\")  # 画y=-1的虚线\n",
    "    \n",
    "    plt.axhline(y=0, color='k')  # 画X坐标轴\n",
    "    plt.axvline(x=0, color='k')  # 画Y坐标轴\n",
    "    \n",
    "    plt.plot([m, m], [0, 1], \"k--\")  # 画纵向虚线\n",
    "    plt.plot([-m, -m], [0, -1], \"k--\")\n",
    "    \n",
    "    plt.plot([-m, m], [0, 0], \"k-o\", linewidth=3)  # 画[-m,m]直线，注意'k-o'表示法，不仅画出直线还标志出两头的起止点\n",
    "    \n",
    "    plt.axis(x1_lim + [-2, 2])\n",
    "    \n",
    "    plt.xlabel(r\"$x_1$\", fontsize=16)\n",
    "    if ylabel:\n",
    "        plt.ylabel(r\"$w_1 x_1$  \", rotation=0, fontsize=16)\n",
    "    plt.title(r\"$w_1 = {}$\".format(w), fontsize=16)\n",
    "    \n",
    "\n",
    "plt.figure(figsize=(12, 3.2))\n",
    "\n",
    "plt.subplot(121)\n",
    "plot_2D_decision_function(1, 0)\n",
    "plt.subplot(122)\n",
    "plot_2D_decision_function(0.5, 0, ylabel=False)\n",
    "\n",
    "plt.show()"
   ]
  },
  {
   "cell_type": "markdown",
   "metadata": {},
   "source": [
    "从图中可以看到，将斜率除以2，决策函数等于$\\pm1$的点将会离决策边界原来的两倍远"
   ]
  },
  {
   "cell_type": "markdown",
   "metadata": {},
   "source": [
    "#### 2.1避免间隔违规(硬间隔)\n",
    "* 对于正的训练样本，需要决策函数大于1\n",
    "* 对于负的训练样本，小于-1\n",
    "\n",
    "对负样本(即$y^{(i)}=0$)定义$t^{(i)}=-1$；对正样本(即$y^{(i)}=1$)定义$t^{(i)}=1$。则可以将所有的样本表示为$t^{(i)}(w^Tx^{(i)}+b)\\geq1$\n",
    "\n",
    "硬间隔线性SVM分类器表示为下列约束优化问题：\n",
    "\n",
    "$minimize_{w,b}\\quad \\frac{1}{2}w^T\\cdot w$\n",
    "\n",
    "$subject\\ to \\quad t^{(i)}(w^T\\cdot x^{(i)}+b)\\geq 1\\quad for\\ i=1,2,\\dots,m$"
   ]
  },
  {
   "cell_type": "markdown",
   "metadata": {},
   "source": [
    "#### 2.2 获得软间隔的目标\n",
    "应用松弛变量(slack variable)$\\zeta^{(i)}\\geq0$，表示第$i$个样本允许违规间隔的程度\n",
    "现在有两个不一致的目标：\n",
    "* 一个是使松弛变量尽可能的小，从而减小间隔违规\n",
    "* 另一个是使$\\frac{1}{2}w\\cdot w$尽量小，从而增大间隔\n",
    "\n",
    "超参数$C$发挥作用：它允许我们在两个目标之间权衡\n",
    "\n",
    "约束优化问题为：\n",
    "\n",
    "$minimize_{w,b,\\zeta}\\quad \\frac{1}{2}w^T\\cdot w+C\\sum_{i=1}^{m}\\zeta$\n",
    "\n",
    "$subject\\ to \\quad t^{(i)}(w^T\\cdot x^{(i)}+b)\\geq 1-\\zeta^{(i)}\\quad and\\quad \\zeta^{(i)}\\quad for\\ i=1,2,\\dots,m$"
   ]
  },
  {
   "cell_type": "markdown",
   "metadata": {},
   "source": [
    "#### 3.二次规划\n",
    "硬间隔和软间隔都是线性约束的凸二次规划优化问题。这些问题被称之为二次规划（QP）问题。\n",
    "\n",
    "一般问题的公式为：\n",
    "\n",
    "$minisize\\quad \\frac{1}{2}p^T\\cdot H\\cdot p+f^T\\cdot p$\n",
    "\n",
    "$subject\\ to\\quad A\\cdot p\\leq b$\n",
    "\n",
    "$where\\\n",
    "\\begin{cases}\n",
    "\\vec p\\ is\\ an\\ n_p-dimensional\\ vector(n_p=number\\ of\\ paramters)\\\\\n",
    "\\vec H\\ is\\ an\\ n_p\\times n_p\\ matrix\\\\\n",
    "\\vec f\\ is\\ an\\ n_p-dimensional\\ vector\\\\\n",
    "\\vec A\\ is\\ an\\ n_c\\times n_p\\ matrix(n_c=number\\ of\\ contraints)\\\\\n",
    "\\vec b\\ is\\ an\\ n_c-dimensional\\ vector \n",
    "\\end{cases}$\n",
    "\n",
    "可以很容易看到，如果用以下的方式设置QP的参数，将获得硬间隔线性SVM分类器的目标：\n",
    "* $n_p=n+1,\\ n $表示特征的数量（+1是偏置项）\n",
    "* $n_c=m,\\ m$表示训练样本数量\n",
    "* $\\vec H$是$n_c\\times n_p$单位矩阵，除了左上角为0（忽略偏置项）\n",
    "* $\\vec f=0$，一个全为0的$n_p$维向量\n",
    "* $b=1$，一个全为1的$n_c$维向量\n",
    "* $a^{(i)}=t^{(i)}x^{(i)},\\ x^{(i)}$等于$x^{(i)}$带一个额外的偏执特征$x_0=1$\n",
    "\n",
    "所以训练硬间隔线性SVM分类器的一种方式是使用现有的QP解决方案，即上述的参数\n",
    "\n",
    "然而使用核技巧我们将会看到一个不同的约束优化问题。"
   ]
  },
  {
   "cell_type": "markdown",
   "metadata": {},
   "source": [
    "#### 3. 对偶问题\n",
    "给定一个约束优化问题，即原始问题（primal problem），它可能表示不同但是和另一个问题紧密相连，称为对偶问题（dual problem）。\n",
    "\n",
    "对偶问题的解通常对原始问题的解给出一个下界约束，在某些条件下可以获得相同的解。\n",
    "\n",
    "幸运的是，SVM问题恰好满足这些条件，所以可以选择解决原始问题或者对偶问题，两者将会有相同解。\n",
    "\n",
    "线性SVM的对偶形式表示为：\n",
    "\n",
    "$$minisize_{\\alpha} \\quad \\frac{1}{2}\\sum_{i=1}^{m}\\sum_{j=1}^{m}\\alpha^{(i)}\\alpha^{(j)}t^{(i)}t^{(j)}x^{(i)T}\\cdot x^{(j)}\\ -\\ \\sum_{i=1}^{m}\\alpha^{(i)}$$\n",
    "\n",
    "$$subject\\ to\\quad \\alpha^{(i)}\\geq 0\\quad for\\ i=1,2,\\dots ,m$$\n",
    "\n",
    "一旦找到最小化公式的向量$\\vec \\alpha$（使用QP解决方案），可以使用下面的方式计算$w$和$b$，从而使原始问题最小化。\n",
    "\n",
    "$$w=\\sum_{i=1}^{m}\\hat{a}^{(i)}t^{(i)}x^{(i)}$$\n",
    "\n",
    "$$\\hat{b}=\\frac{1}{n_s}\\sum_{i=1\\\\ \\hat{a}^{(i)}>0}(1-t^{(i)}(w^T\\cdot x^{(i)}))$$\n",
    "\n",
    "解决了线性SVM分类器从对偶解到原始解"
   ]
  },
  {
   "cell_type": "markdown",
   "metadata": {},
   "source": [
    "#### 4. 核化支持向量机"
   ]
  },
  {
   "cell_type": "markdown",
   "metadata": {},
   "source": [
    "假设把一个二次多项式应用到二维空间的训练集，然后在变换后的训练集上训练一个线性SVM分类器.\n",
    "二次多项式映射函数为：\n",
    "\n",
    "$\\phi(x)=\\phi(\\begin{pmatrix}x_1\\\\x_2\\\\ \\end{pmatrix})=\\begin{pmatrix}x_1^2\\\\\\sqrt{2}x_1x_2\\\\x_2^2\\\\ \\end{pmatrix}$\n",
    "\n",
    "如果我们应用这个二次多项式映射，然后计算转换后向量的点积，则：\n",
    "\n",
    "$\\phi(a)^T\\cdot \\phi(b)=\\begin{pmatrix}a_1^2\\\\\\sqrt{2}a_1a_2\\\\b_2^2\\\\ \\end{pmatrix}\\cdot \\begin{pmatrix}b_1^2\\\\\\sqrt{2}b_1b_2\\\\b_2^2\\\\ \\end{pmatrix}=a_1^2b_1^2+2a_1b_1a_2b_2+a_2^2b_2^2=(a_1b_1+a_2b_2)^2=(\\begin{pmatrix}a_1\\\\a_2 \\end{pmatrix}^T\\cdot \\begin{pmatrix}b_1\\\\b_2 \\end{pmatrix})=(a^T\\cdot b)^2$\n",
    "\n",
    "**转换后向量的点积等于原始向量点积的平方**：$\\phi(a)^T\\cdot \\phi(b)=(a^Tb)^T$\n",
    "\n",
    "所以实际上不需要对训练集进行转换：仅仅需要在SVM的对偶形式中，将点积替换成它点积的平方。结果将会个经过麻烦的训练集转换并拟合出线性SVM算法得出的结果一结果一样，但是这个技巧使得整个过程在计算上面更有效率。**这就是核技巧的精髓**"
   ]
  },
  {
   "cell_type": "markdown",
   "metadata": {},
   "source": [
    "函数$K(a,b)=(a^Tb)^2$被称为二次多项式核(polynomial kernel)。在机器学习中，核函数是一个能计算点积的函数，并只基于原始向量$a$和$b$，不需要计算（甚至知道）转换$\\phi$。一下列举了一些常用的核函数：\n",
    "$$\\ Linear:\\quad K(a,b)=a^Tb$$\n",
    "$$\\quad \\quad Polynomial:\\quad K(a,b)=(\\gamma a^T\\cdot b+r)^d$$\n",
    "$$\\quad \\quad Gaussian RBF:\\quad K(a,b)=exp(-\\gamma \\parallel a-b\\parallel^2$$\n",
    "$$\\quad \\quad Sgimoid:\\quad K(a,b)=tanh(\\gamma a^T\\cdot +r)$$"
   ]
  },
  {
   "cell_type": "markdown",
   "metadata": {},
   "source": [
    "将$w$代入到新的样本$x^{(n)}$的决策函数中，会得到一个在输入向量之间只有点积的方程式，这时，核技巧将派上用场。\n",
    "\n",
    "$$h_{w,\\hat{b}}(\\phi(x^{(n)}))=w^T\\cdot\\phi(x^{(n)})+\\hat{b}=(\\sum_{i=1}^{m}\\hat{a}^{(i)}t^{(i)}\\phi(x^{(i)}))^T\\cdot \\phi(x^{(n)})+\\hat{b}\\\\\n",
    "=\\sum_{i=1}^{m}\\hat{a}^{(i)}t^{(i)}(\\phi(x^{(i)})^T\\cot \\phi(x^{(n)})+\\hat{b}\\\\\n",
    "=\\sum_{i=1\\\\\\hat{a}^{(i)}>0}^{m}\\hat{a}^{(i)}t^{(i)}K(x^{i},x^{(n)})+\\hat{b}$$\n",
    "\n",
    "注意到支持向量才满足$a(i)\\neq 0$，做出预测只涉及计算为支持向量部分的输入样本$x^{(n)}的点积，而不是全部的训练样本。\n",
    "\n",
    "同样可以使用相同的核技巧来计算偏置项$b$：\n",
    "\n",
    "$$\\hat{b}=\\frac{1}{n_s}\\sum_{i=1\\\\ \\hat{a}^{(i)}>0}^{m}(1-t^{(i)}w^T\\cdot \\phi(x^{(i)}))=\\frac{1}{n_s}\\sum_{i=1\\\\ \\hat{a}^{(i)}>0}^{m}(1-t^{(i)}(\\sum_{j=1}^{m}\\hat{a}^{(j)}t^{(j)}\\phi(x^{(j)}))\\cdot \\phi(x^{(j)}))\\\\\n",
    "=\\frac{1}{n_s}\\sum_{i=1\\\\ \\hat{a}^{(i)}>0}^{m}(1-t^{(i)}\\sum_{j=1\\\\ \\hat{a}^{(j)}>0}\\hat{a}^{(j)}t^{(j)}K(x^{(i)},x^{(j)}))$$"
   ]
  },
  {
   "cell_type": "markdown",
   "metadata": {},
   "source": [
    "#### 在线支持向量机\n",
    "\n",
    "在线学习意味着增量地学习，不断有新实例\n",
    "\n",
    "对于线性SVM分类器，一种方式是使用梯度下降（如使用SGDClassifier）最小化代价函数：\n",
    "\n",
    "$$J(w,b)=\\frac{1}{2}w^T\\cdot w+C\\sum_{i=1}^{m}\\max (0,1=t^{(i)}(w^T\\cdot x^{(i)}+b))$$\n",
    "\n",
    "* 代价函数第一个和会使模型有一个小的权重向量$w$，从而获得一个更大地间隔\n",
    "* 第二个和计算所有间隔违规地总数\n",
    "\n",
    "如果样本位于\"街道\"上和正确地一遍，或它与\"街道\"正确一边地距离成比例，则间隔违规等于0.最小化保证了模型的间隔违规尽可能小并且少。\n",
    "\n",
    "我们也可以使用现在核化SVM。例如使用\"增量和递减SVM学习\"或者\"在线和主动的快速核分类器\"。但是，这些都是用Matlab和C++实现的。对于大规模飞线性问题，需要考虑使用神经网络。"
   ]
  },
  {
   "cell_type": "markdown",
   "metadata": {},
   "source": [
    "#### Hinge损失\n",
    "\n",
    "函数$\\max(0,1-t)$称为Hinge损失。\n",
    "* 当$t\\geq 1$时，Hinge值为0\n",
    "* 当$t<1$，它的导数(斜率)为-1\n",
    "* 当$t>1$，则等于0\n",
    "* 在$t=1$处，它是不可微的，但是仍然可以在$t=0$处使用梯度下降法"
   ]
  },
  {
   "cell_type": "code",
   "execution_count": 6,
   "metadata": {},
   "outputs": [
    {
     "data": {
      "image/png": "[encoded data removed]",
      "text/plain": [
       "<Figure size 360x201.6 with 1 Axes>"
      ]
     },
     "metadata": {},
     "output_type": "display_data"
    }
   ],
   "source": [
    "t = np.linspace(-2, 4, 200)\n",
    "h = np.where(1 - t < 0, 0, 1 - t)  # max(0, 1-t),np.where(condition, x, y)满足条件输出x,不满足输出y\n",
    "\n",
    "plt.figure(figsize=(5,2.8))\n",
    "plt.plot(t, h, \"b-\", linewidth=2, label=\"$max(0, 1 - t)$\")\n",
    "plt.grid(True, which='both')\n",
    "plt.axhline(y=0, color='k')\n",
    "plt.axvline(x=0, color='k')\n",
    "plt.yticks(np.arange(-1, 2.5, 1))\n",
    "plt.xlabel(\"$t$\", fontsize=16)\n",
    "plt.axis([-2, 4, -1, 2.5])\n",
    "plt.legend(loc=\"upper right\", fontsize=16)\n",
    "plt.show()"
   ]
  }
 ],
 "metadata": {
  "kernelspec": {
   "display_name": "Python 3",
   "language": "python",
   "name": "python3"
  },
  "language_info": {
   "codemirror_mode": {
    "name": "ipython",
    "version": 3
   },
   "file_extension": ".py",
   "mimetype": "text/x-python",
   "name": "python",
   "nbconvert_exporter": "python",
   "pygments_lexer": "ipython3",
   "version": "3.6.6"
  }
 },
 "nbformat": 4,
 "nbformat_minor": 2
}
